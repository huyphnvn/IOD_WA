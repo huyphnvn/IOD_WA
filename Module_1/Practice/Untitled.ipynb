{
 "cells": [
  {
   "cell_type": "code",
   "execution_count": 1,
   "id": "d049812f-52c9-4c22-8138-b567862229b7",
   "metadata": {
    "tags": []
   },
   "outputs": [
    {
     "name": "stdin",
     "output_type": "stream",
     "text": [
      "Please enter your name: Huy\n"
     ]
    }
   ],
   "source": [
    "name = input(\"Please enter your name:\")"
   ]
  },
  {
   "cell_type": "code",
   "execution_count": 2,
   "id": "989e0f6d-c3bc-48b3-8f47-62cccdd98930",
   "metadata": {
    "tags": []
   },
   "outputs": [
    {
     "name": "stdout",
     "output_type": "stream",
     "text": [
      "Huy\n"
     ]
    }
   ],
   "source": [
    "print(name)"
   ]
  },
  {
   "cell_type": "code",
   "execution_count": 3,
   "id": "4fbcac95-2e38-4448-918c-f81c39d854bd",
   "metadata": {
    "tags": []
   },
   "outputs": [
    {
     "name": "stdin",
     "output_type": "stream",
     "text": [
      "Please enter your age: 31\n"
     ]
    }
   ],
   "source": [
    "age = input(\"Please enter your age:\")"
   ]
  },
  {
   "cell_type": "code",
   "execution_count": 4,
   "id": "76b3c041-f67f-4d6b-9cb3-94837420757d",
   "metadata": {
    "tags": []
   },
   "outputs": [
    {
     "name": "stdout",
     "output_type": "stream",
     "text": [
      "31\n"
     ]
    }
   ],
   "source": [
    "print(age)"
   ]
  },
  {
   "cell_type": "code",
   "execution_count": 7,
   "id": "994de2a8-16c4-4981-977f-dd23e11b2e5b",
   "metadata": {
    "tags": []
   },
   "outputs": [
    {
     "name": "stdin",
     "output_type": "stream",
     "text": [
      "Please enter your name: Huy\n",
      "Please enter your name: Bec\n",
      "Please enter your name: Amy\n",
      "Please enter your name: Demian\n",
      "Please enter your name: Bijit\n",
      "Please enter your name: Amir\n",
      "Please enter your name: Andrew\n"
     ]
    }
   ],
   "source": [
    "iod_wa_count = 7\n",
    "\n",
    "iod_name_list = list()\n",
    "\n",
    "for member in range(iod_wa_count):\n",
    "    name = input(\"Please enter your name:\")\n",
    "    iod_name_list.append(name)"
   ]
  },
  {
   "cell_type": "code",
   "execution_count": 8,
   "id": "1f50d71a-bcf9-4f71-8323-c2fe1c520328",
   "metadata": {
    "tags": []
   },
   "outputs": [
    {
     "data": {
      "text/plain": [
       "['Huy', 'Bec', 'Amy', 'Demian', 'Bijit', 'Amir', 'Andrew']"
      ]
     },
     "execution_count": 8,
     "metadata": {},
     "output_type": "execute_result"
    }
   ],
   "source": [
    "impo"
   ]
  },
  {
   "cell_type": "code",
   "execution_count": 9,
   "id": "118a3896-7138-4a9b-9a29-8c1a0d356390",
   "metadata": {
    "tags": []
   },
   "outputs": [],
   "source": [
    "import pandas"
   ]
  },
  {
   "cell_type": "code",
   "execution_count": 10,
   "id": "bfa575c3-a0a1-42fd-a6ed-11efb4675640",
   "metadata": {
    "tags": []
   },
   "outputs": [
    {
     "ename": "ModuleNotFoundError",
     "evalue": "No module named 'torch'",
     "output_type": "error",
     "traceback": [
      "\u001b[1;31m---------------------------------------------------------------------------\u001b[0m",
      "\u001b[1;31mModuleNotFoundError\u001b[0m                       Traceback (most recent call last)",
      "Cell \u001b[1;32mIn[10], line 1\u001b[0m\n\u001b[1;32m----> 1\u001b[0m \u001b[38;5;28;01mimport\u001b[39;00m \u001b[38;5;21;01mtorch\u001b[39;00m\n",
      "\u001b[1;31mModuleNotFoundError\u001b[0m: No module named 'torch'"
     ]
    }
   ],
   "source": [
    "import torch"
   ]
  },
  {
   "cell_type": "code",
   "execution_count": 12,
   "id": "a41ccde1-89ce-4ab8-be86-88917e4c3529",
   "metadata": {
    "tags": []
   },
   "outputs": [
    {
     "name": "stdout",
     "output_type": "stream",
     "text": [
      "Defaulting to user installation because normal site-packages is not writeable\n",
      "Requirement already satisfied: pip in d:\\anaconda3\\lib\\site-packages (23.1.2)\n",
      "Collecting pip\n",
      "  Downloading pip-24.0-py3-none-any.whl (2.1 MB)\n",
      "                                              0.0/2.1 MB ? eta -:--:--\n",
      "                                              0.0/2.1 MB ? eta -:--:--\n",
      "                                              0.0/2.1 MB 487.6 kB/s eta 0:00:05\n",
      "     -                                        0.1/2.1 MB 777.7 kB/s eta 0:00:03\n",
      "     ---                                      0.2/2.1 MB 1.3 MB/s eta 0:00:02\n",
      "     -----                                    0.3/2.1 MB 1.3 MB/s eta 0:00:02\n",
      "     -----                                    0.3/2.1 MB 1.3 MB/s eta 0:00:02\n",
      "     ------                                   0.4/2.1 MB 1.2 MB/s eta 0:00:02\n",
      "     -------                                  0.4/2.1 MB 1.2 MB/s eta 0:00:02\n",
      "     ---------                                0.5/2.1 MB 1.2 MB/s eta 0:00:02\n",
      "     ---------                                0.5/2.1 MB 1.2 MB/s eta 0:00:02\n",
      "     -----------                              0.6/2.1 MB 1.2 MB/s eta 0:00:02\n",
      "     -------------                            0.7/2.1 MB 1.3 MB/s eta 0:00:02\n",
      "     ---------------                          0.8/2.1 MB 1.4 MB/s eta 0:00:01\n",
      "     ---------------                          0.8/2.1 MB 1.3 MB/s eta 0:00:01\n",
      "     ----------------                         0.8/2.1 MB 1.3 MB/s eta 0:00:01\n",
      "     ----------------                         0.8/2.1 MB 1.3 MB/s eta 0:00:01\n",
      "     ------------------                       1.0/2.1 MB 1.3 MB/s eta 0:00:01\n",
      "     -------------------                      1.0/2.1 MB 1.3 MB/s eta 0:00:01\n",
      "     --------------------                     1.1/2.1 MB 1.3 MB/s eta 0:00:01\n",
      "     --------------------                     1.1/2.1 MB 1.3 MB/s eta 0:00:01\n",
      "     -----------------------                  1.2/2.1 MB 1.3 MB/s eta 0:00:01\n",
      "     ------------------------                 1.3/2.1 MB 1.3 MB/s eta 0:00:01\n",
      "     --------------------------               1.4/2.1 MB 1.3 MB/s eta 0:00:01\n",
      "     --------------------------               1.4/2.1 MB 1.3 MB/s eta 0:00:01\n",
      "     ----------------------------             1.5/2.1 MB 1.3 MB/s eta 0:00:01\n",
      "     -------------------------------          1.7/2.1 MB 1.4 MB/s eta 0:00:01\n",
      "     -------------------------------          1.7/2.1 MB 1.4 MB/s eta 0:00:01\n",
      "     --------------------------------         1.7/2.1 MB 1.3 MB/s eta 0:00:01\n",
      "     --------------------------------         1.7/2.1 MB 1.3 MB/s eta 0:00:01\n",
      "     ---------------------------------        1.8/2.1 MB 1.3 MB/s eta 0:00:01\n",
      "     ---------------------------------        1.8/2.1 MB 1.3 MB/s eta 0:00:01\n",
      "     ----------------------------------       1.8/2.1 MB 1.3 MB/s eta 0:00:01\n",
      "     -----------------------------------      1.9/2.1 MB 1.2 MB/s eta 0:00:01\n",
      "     -----------------------------------      1.9/2.1 MB 1.2 MB/s eta 0:00:01\n",
      "     -----------------------------------      1.9/2.1 MB 1.2 MB/s eta 0:00:01\n",
      "     ------------------------------------     1.9/2.1 MB 1.2 MB/s eta 0:00:01\n",
      "     ------------------------------------     1.9/2.1 MB 1.2 MB/s eta 0:00:01\n",
      "     --------------------------------------   2.0/2.1 MB 1.2 MB/s eta 0:00:01\n",
      "     --------------------------------------   2.0/2.1 MB 1.2 MB/s eta 0:00:01\n",
      "     ---------------------------------------  2.1/2.1 MB 1.1 MB/s eta 0:00:01\n",
      "     ---------------------------------------  2.1/2.1 MB 1.1 MB/s eta 0:00:01\n",
      "     ---------------------------------------- 2.1/2.1 MB 1.1 MB/s eta 0:00:00\n",
      "Installing collected packages: pip\n",
      "Successfully installed pip-24.0\n"
     ]
    },
    {
     "name": "stderr",
     "output_type": "stream",
     "text": [
      "  WARNING: The scripts pip.exe, pip3.11.exe and pip3.exe are installed in 'C:\\Users\\huyph\\AppData\\Roaming\\Python\\Python311\\Scripts' which is not on PATH.\n",
      "  Consider adding this directory to PATH or, if you prefer to suppress this warning, use --no-warn-script-location.\n"
     ]
    }
   ],
   "source": [
    "!python -m pip install --upgrade pip"
   ]
  },
  {
   "cell_type": "code",
   "execution_count": null,
   "id": "462f3b12-33a3-4254-9804-23c3e813a6d8",
   "metadata": {},
   "outputs": [],
   "source": []
  }
 ],
 "metadata": {
  "kernelspec": {
   "display_name": "Python 3 (ipykernel)",
   "language": "python",
   "name": "python3"
  },
  "language_info": {
   "codemirror_mode": {
    "name": "ipython",
    "version": 3
   },
   "file_extension": ".py",
   "mimetype": "text/x-python",
   "name": "python",
   "nbconvert_exporter": "python",
   "pygments_lexer": "ipython3",
   "version": "3.11.5"
  }
 },
 "nbformat": 4,
 "nbformat_minor": 5
}
