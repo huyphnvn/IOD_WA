{
 "cells": [
  {
   "cell_type": "markdown",
   "id": "ca53e60e-9f33-4c57-bffd-bdb90c498a0f",
   "metadata": {},
   "source": [
    "# Numbers"
   ]
  },
  {
   "cell_type": "code",
   "execution_count": 2,
   "id": "ff0a37d0-525e-48f0-882c-f01e2a11796f",
   "metadata": {
    "tags": []
   },
   "outputs": [
    {
     "data": {
      "text/plain": [
       "int"
      ]
     },
     "execution_count": 2,
     "metadata": {},
     "output_type": "execute_result"
    }
   ],
   "source": [
    "age = 31\n",
    "type(age)"
   ]
  },
  {
   "cell_type": "code",
   "execution_count": 3,
   "id": "3284b573-9a23-4518-89bc-473898ab5cc8",
   "metadata": {
    "tags": []
   },
   "outputs": [
    {
     "data": {
      "text/plain": [
       "31"
      ]
     },
     "execution_count": 3,
     "metadata": {},
     "output_type": "execute_result"
    }
   ],
   "source": [
    "### Converting types\n",
    "int(31)"
   ]
  },
  {
   "cell_type": "code",
   "execution_count": 4,
   "id": "083e806b-1c8f-4fc7-92b5-47690146eabc",
   "metadata": {
    "tags": []
   },
   "outputs": [
    {
     "data": {
      "text/plain": [
       "'31'"
      ]
     },
     "execution_count": 4,
     "metadata": {},
     "output_type": "execute_result"
    }
   ],
   "source": [
    "str(31)"
   ]
  },
  {
   "cell_type": "code",
   "execution_count": 5,
   "id": "16e8afb0-652a-4c9e-aa53-8ad9df49e0ee",
   "metadata": {
    "tags": []
   },
   "outputs": [
    {
     "data": {
      "text/plain": [
       "31.0"
      ]
     },
     "execution_count": 5,
     "metadata": {},
     "output_type": "execute_result"
    }
   ],
   "source": [
    "float(31)"
   ]
  },
  {
   "cell_type": "code",
   "execution_count": 7,
   "id": "a2700680-b7f6-4caf-88bb-3b30e4c8d0a2",
   "metadata": {
    "tags": []
   },
   "outputs": [
    {
     "name": "stdout",
     "output_type": "stream",
     "text": [
      "My full name is Huy Phan Van, and I love my name!!! It is so unique\n"
     ]
    }
   ],
   "source": [
    "name = 'Huy Phan Van'\n",
    "print(f\"My full name is {name}, and I love my name!!! It is so unique\")"
   ]
  },
  {
   "cell_type": "code",
   "execution_count": 8,
   "id": "1fe8d131-5048-43f6-a3fe-f0ad2c922d68",
   "metadata": {
    "tags": []
   },
   "outputs": [
    {
     "data": {
      "text/plain": [
       "True"
      ]
     },
     "execution_count": 8,
     "metadata": {},
     "output_type": "execute_result"
    }
   ],
   "source": [
    "name.lower().islower()"
   ]
  },
  {
   "cell_type": "code",
   "execution_count": 11,
   "id": "cd0da279-e4c6-46d3-8cc9-768e8c280ac8",
   "metadata": {
    "tags": []
   },
   "outputs": [
    {
     "data": {
      "text/plain": [
       "-1"
      ]
     },
     "execution_count": 11,
     "metadata": {},
     "output_type": "execute_result"
    }
   ],
   "source": [
    "~name.islower()"
   ]
  },
  {
   "cell_type": "code",
   "execution_count": 46,
   "id": "d1687fc8-5143-4445-aa11-ad4a6e33a9d2",
   "metadata": {
    "tags": []
   },
   "outputs": [],
   "source": [
    "sentence = \"This is a beautiful life\""
   ]
  },
  {
   "cell_type": "code",
   "execution_count": 47,
   "id": "d6b4ca14-5c86-47c7-ac76-86da7b37a9f2",
   "metadata": {
    "tags": []
   },
   "outputs": [
    {
     "data": {
      "text/plain": [
       "['This', 'is', 'a', 'beautiful', 'life']"
      ]
     },
     "execution_count": 47,
     "metadata": {},
     "output_type": "execute_result"
    }
   ],
   "source": [
    "split = sentence.split(sep=' ')\n",
    "split"
   ]
  },
  {
   "cell_type": "code",
   "execution_count": 48,
   "id": "a4562ee9-8da2-4291-8a11-602fb54e5983",
   "metadata": {
    "tags": []
   },
   "outputs": [],
   "source": [
    "sentence = ''\n",
    "\n",
    "for i in range(len(split)):\n",
    "    upper_word = split[i].upper()\n",
    "    sentence += upper_word + ' '"
   ]
  },
  {
   "cell_type": "code",
   "execution_count": 49,
   "id": "eb64f09c-e147-4381-8230-24e20ad51f6e",
   "metadata": {
    "tags": []
   },
   "outputs": [
    {
     "data": {
      "text/plain": [
       "'THIS IS A BEAUTIFUL LIFE'"
      ]
     },
     "execution_count": 49,
     "metadata": {},
     "output_type": "execute_result"
    }
   ],
   "source": [
    "sentence.strip()"
   ]
  },
  {
   "cell_type": "code",
   "execution_count": 50,
   "id": "85f4863b-b3ae-46b3-bb1f-a172d6405a3a",
   "metadata": {
    "tags": []
   },
   "outputs": [
    {
     "data": {
      "text/plain": [
       "True"
      ]
     },
     "execution_count": 50,
     "metadata": {},
     "output_type": "execute_result"
    }
   ],
   "source": [
    "bool([None, None])"
   ]
  },
  {
   "cell_type": "code",
   "execution_count": 51,
   "id": "f49ab49b-6d5e-46ed-bcd9-b7f29a83c9ab",
   "metadata": {
    "tags": []
   },
   "outputs": [
    {
     "data": {
      "text/plain": [
       "True"
      ]
     },
     "execution_count": 51,
     "metadata": {},
     "output_type": "execute_result"
    }
   ],
   "source": [
    "bool([None])"
   ]
  },
  {
   "cell_type": "code",
   "execution_count": 52,
   "id": "0d5f279f-f0d7-4634-9955-b426b31ac196",
   "metadata": {
    "tags": []
   },
   "outputs": [],
   "source": [
    "my_list = [1, 2, 3, 6, 7]"
   ]
  },
  {
   "cell_type": "code",
   "execution_count": 53,
   "id": "a7b63e93-50b7-4778-b11d-48e71d6956c5",
   "metadata": {
    "tags": []
   },
   "outputs": [
    {
     "data": {
      "text/plain": [
       "[3, 6]"
      ]
     },
     "execution_count": 53,
     "metadata": {},
     "output_type": "execute_result"
    }
   ],
   "source": [
    "my_list[2:4]"
   ]
  },
  {
   "cell_type": "code",
   "execution_count": 55,
   "id": "ea862f80-4022-4c06-84bc-b9746613ad28",
   "metadata": {
    "tags": []
   },
   "outputs": [
    {
     "data": {
      "text/plain": [
       "[3, 6]"
      ]
     },
     "execution_count": 55,
     "metadata": {},
     "output_type": "execute_result"
    }
   ],
   "source": [
    "my_list[-3:-1]"
   ]
  },
  {
   "cell_type": "code",
   "execution_count": 57,
   "id": "6a84b0e6-0a26-4fab-bee9-5faf78edae2b",
   "metadata": {
    "tags": []
   },
   "outputs": [],
   "source": [
    "list_of_things = [1, 'eggs', 'milk', 2024, True, [1,2], ['water', False], 'bag']"
   ]
  },
  {
   "cell_type": "code",
   "execution_count": 58,
   "id": "ac77283a-21b1-4fdb-9208-54443ef0169d",
   "metadata": {
    "tags": []
   },
   "outputs": [
    {
     "name": "stdout",
     "output_type": "stream",
     "text": [
      "Variable         Type    Data/Info\n",
      "----------------------------------\n",
      "age              int     31\n",
      "i                int     4\n",
      "list_of_things   list    n=8\n",
      "my_list          list    n=5\n",
      "name             str     Huy Phan Van\n",
      "sentence         str     THIS IS A BEAUTIFUL LIFE \n",
      "split            list    n=5\n",
      "upper_word       str     LIFE\n"
     ]
    }
   ],
   "source": [
    "whos"
   ]
  },
  {
   "cell_type": "code",
   "execution_count": 59,
   "id": "d44de94f-3c31-4fda-98c0-8996f745f23e",
   "metadata": {
    "tags": []
   },
   "outputs": [
    {
     "ename": "ValueError",
     "evalue": "list.remove(x): x not in list",
     "output_type": "error",
     "traceback": [
      "\u001b[1;31m---------------------------------------------------------------------------\u001b[0m",
      "\u001b[1;31mValueError\u001b[0m                                Traceback (most recent call last)",
      "Cell \u001b[1;32mIn[59], line 1\u001b[0m\n\u001b[1;32m----> 1\u001b[0m list_of_things\u001b[38;5;241m.\u001b[39mremove([\u001b[38;5;241m-\u001b[39m\u001b[38;5;241m1\u001b[39m])\n",
      "\u001b[1;31mValueError\u001b[0m: list.remove(x): x not in list"
     ]
    }
   ],
   "source": [
    "list_of_things.remove([-1])"
   ]
  },
  {
   "cell_type": "code",
   "execution_count": null,
   "id": "b119cc64-12e0-47d1-95db-433c14259088",
   "metadata": {},
   "outputs": [],
   "source": []
  }
 ],
 "metadata": {
  "kernelspec": {
   "display_name": "Python 3 (ipykernel)",
   "language": "python",
   "name": "python3"
  },
  "language_info": {
   "codemirror_mode": {
    "name": "ipython",
    "version": 3
   },
   "file_extension": ".py",
   "mimetype": "text/x-python",
   "name": "python",
   "nbconvert_exporter": "python",
   "pygments_lexer": "ipython3",
   "version": "3.11.5"
  }
 },
 "nbformat": 4,
 "nbformat_minor": 5
}
