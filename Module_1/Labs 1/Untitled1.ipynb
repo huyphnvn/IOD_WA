{
 "cells": [
  {
   "cell_type": "code",
   "execution_count": 1,
   "id": "800193d6-157f-4df6-afc1-865da6a5dc73",
   "metadata": {
    "tags": []
   },
   "outputs": [],
   "source": [
    "import numpy as np"
   ]
  },
  {
   "cell_type": "code",
   "execution_count": 2,
   "id": "5baa81b4-d76c-4507-ad7b-d68d78dec770",
   "metadata": {
    "tags": []
   },
   "outputs": [],
   "source": [
    "my_list = [2, 5, 10, 15, 20, 25, 30, 35, 40, 45]"
   ]
  },
  {
   "cell_type": "code",
   "execution_count": 3,
   "id": "26bf8e13-f96c-4e7e-8e43-8ecd87e1fe79",
   "metadata": {
    "tags": []
   },
   "outputs": [],
   "source": [
    "new_list = [(number - 3 if number % 5 == 0 \n",
    "            else numer + 10) for number in my_list if (number % 2 != 0 or number % 5 ==0)]"
   ]
  },
  {
   "cell_type": "code",
   "execution_count": 4,
   "id": "083d703f-0804-4c82-9d2e-11fc325a79d7",
   "metadata": {
    "tags": []
   },
   "outputs": [
    {
     "data": {
      "text/plain": [
       "[2, 7, 12, 17, 22, 27, 32, 37, 42]"
      ]
     },
     "execution_count": 4,
     "metadata": {},
     "output_type": "execute_result"
    }
   ],
   "source": [
    "new_list"
   ]
  }
 ],
 "metadata": {
  "kernelspec": {
   "display_name": "Python 3 (ipykernel)",
   "language": "python",
   "name": "python3"
  },
  "language_info": {
   "codemirror_mode": {
    "name": "ipython",
    "version": 3
   },
   "file_extension": ".py",
   "mimetype": "text/x-python",
   "name": "python",
   "nbconvert_exporter": "python",
   "pygments_lexer": "ipython3",
   "version": "3.11.5"
  }
 },
 "nbformat": 4,
 "nbformat_minor": 5
}
