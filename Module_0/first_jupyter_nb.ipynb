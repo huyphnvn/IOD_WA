{
 "cells": [
  {
   "cell_type": "markdown",
   "id": "1cee9f62-6573-4195-8d3c-bf6624ad5a3a",
   "metadata": {},
   "source": [
    "# WELCOME TO PROGRAMMING"
   ]
  },
  {
   "cell_type": "code",
   "execution_count": 1,
   "id": "0768d511-ab3b-4f6a-b486-7d2de3a4b100",
   "metadata": {
    "tags": []
   },
   "outputs": [
    {
     "name": "stdout",
     "output_type": "stream",
     "text": [
      "My name is Huy Phan Van. I love my name\n"
     ]
    }
   ],
   "source": [
    "# Print your name\n",
    "print(\"My name is Huy Phan Van. I love my name\")"
   ]
  },
  {
   "cell_type": "code",
   "execution_count": 2,
   "id": "000e05c3-e6aa-405b-a188-b913b81f2fa4",
   "metadata": {
    "tags": []
   },
   "outputs": [
    {
     "data": {
      "text/plain": [
       "[23, 0, 6, 19, 92]"
      ]
     },
     "execution_count": 2,
     "metadata": {},
     "output_type": "execute_result"
    }
   ],
   "source": [
    "# Make a list of 5 numbers\n",
    "my_list = [23, 0, 6, 19, 92]\n",
    "my_list"
   ]
  },
  {
   "cell_type": "code",
   "execution_count": 3,
   "id": "3043aa74-3055-46d5-a98e-183369bc73a7",
   "metadata": {
    "tags": []
   },
   "outputs": [
    {
     "name": "stdout",
     "output_type": "stream",
     "text": [
      "140\n"
     ]
    }
   ],
   "source": [
    "# Print the sum of your list\n",
    "print(sum(my_list))"
   ]
  },
  {
   "cell_type": "markdown",
   "id": "b502488e-5992-4ef1-b3ea-1cd7212e87ce",
   "metadata": {},
   "source": [
    "##### Today is a great day! Goodnight everyone!"
   ]
  },
  {
   "cell_type": "code",
   "execution_count": null,
   "id": "30d86f80-4349-4059-8a13-4f229ad2bcbd",
   "metadata": {},
   "outputs": [],
   "source": []
  }
 ],
 "metadata": {
  "kernelspec": {
   "display_name": "Python 3 (ipykernel)",
   "language": "python",
   "name": "python3"
  },
  "language_info": {
   "codemirror_mode": {
    "name": "ipython",
    "version": 3
   },
   "file_extension": ".py",
   "mimetype": "text/x-python",
   "name": "python",
   "nbconvert_exporter": "python",
   "pygments_lexer": "ipython3",
   "version": "3.11.5"
  }
 },
 "nbformat": 4,
 "nbformat_minor": 5
}
